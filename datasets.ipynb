{
 "cells": [
  {
   "cell_type": "code",
   "execution_count": null,
   "id": "c63947e9",
   "metadata": {},
   "outputs": [],
   "source": [
    "import json\n",
    "from datasets import load_dataset\n",
    "\n",
    "# Load dataset\n",
    "dataset = load_dataset(\"MathArena/aime_2025\", split=\"train\")\n",
    "\n",
    "# Convert to JSONL\n",
    "with open(\"aime_2025.jsonl\", \"w\", encoding=\"utf-8\") as f:\n",
    "    for example in dataset:\n",
    "        entry = {\n",
    "            \"question\": example[\"problem\"],\n",
    "            \"answer\": str(example[\"answer\"])\n",
    "        }\n",
    "        f.write(json.dumps(entry, ensure_ascii=False) + \"\\n\")\n",
    "\n",
    "print(f\"Converted {len(dataset)} examples to aime_2025.jsonl\")\n"
   ]
  },
  {
   "cell_type": "code",
   "execution_count": null,
   "id": "af82d6f7",
   "metadata": {},
   "outputs": [
    {
     "data": {
      "application/vnd.jupyter.widget-view+json": {
       "model_id": "a02268c1f45741ef9033b7296828561f",
       "version_major": 2,
       "version_minor": 0
      },
      "text/plain": [
       "README.md: 0.00B [00:00, ?B/s]"
      ]
     },
     "metadata": {},
     "output_type": "display_data"
    },
    {
     "data": {
      "application/vnd.jupyter.widget-view+json": {
       "model_id": "b2921d37c2d34756aae64cd9ff7a3ee6",
       "version_major": 2,
       "version_minor": 0
      },
      "text/plain": [
       "data/train-00000-of-00001.parquet:   0%|          | 0.00/7.56k [00:00<?, ?B/s]"
      ]
     },
     "metadata": {},
     "output_type": "display_data"
    },
    {
     "data": {
      "application/vnd.jupyter.widget-view+json": {
       "model_id": "3d9278d501464d5fb1061431b3bcf049",
       "version_major": 2,
       "version_minor": 0
      },
      "text/plain": [
       "Generating train split:   0%|          | 0/15 [00:00<?, ? examples/s]"
      ]
     },
     "metadata": {},
     "output_type": "display_data"
    },
    {
     "name": "stdout",
     "output_type": "stream",
     "text": [
      "Converted 15 examples to aime_2024.jsonl\n"
     ]
    }
   ],
   "source": [
    "import json\n",
    "from datasets import load_dataset\n",
    "\n",
    "# Load dataset\n",
    "dataset1 = load_dataset(\"MathArena/aime_2024_I\", split=\"train\")\n",
    "dataset2 = load_dataset(\"MathArena/aime_2024_II\", split=\"train\")\n",
    "# Convert to JSONL\n",
    "with open(\"aime_2024.jsonl\", \"w\", encoding=\"utf-8\") as f:\n",
    "    for example in dataset1:\n",
    "        entry = {\n",
    "            \"question\": example[\"problem\"],\n",
    "            \"answer\": str(example[\"answer\"])\n",
    "        }\n",
    "        f.write(json.dumps(entry, ensure_ascii=False) + \"\\n\")\n",
    "    for example in dataset2:\n",
    "        entry = {\n",
    "            \"question\": example[\"problem\"],\n",
    "            \"answer\": str(example[\"answer\"])\n",
    "        }\n",
    "        f.write(json.dumps(entry, ensure_ascii=False) + \"\\n\")\n",
    "\n",
    "print(f\"Converted {len(dataset1)+len(dataset2)} examples to aime_2024.jsonl\")\n"
   ]
  },
  {
   "cell_type": "code",
   "execution_count": 10,
   "id": "173c8cb5",
   "metadata": {},
   "outputs": [
    {
     "name": "stdout",
     "output_type": "stream",
     "text": [
      "Converted 30 examples to brumo_2025.jsonl\n"
     ]
    }
   ],
   "source": [
    "import json\n",
    "from datasets import load_dataset\n",
    "\n",
    "# Load dataset\n",
    "dataset = load_dataset(\"MathArena/brumo_2025\", split=\"train\")\n",
    "\n",
    "# Convert to JSONL\n",
    "with open(\"brumo_2025.jsonl\", \"w\", encoding=\"utf-8\") as f:\n",
    "    for example in dataset:\n",
    "        entry = {\n",
    "            \"question\": example[\"problem\"],\n",
    "            \"answer\": str(example[\"answer\"])\n",
    "        }\n",
    "        f.write(json.dumps(entry, ensure_ascii=False) + \"\\n\")\n",
    "\n",
    "print(f\"Converted {len(dataset)} examples to brumo_2025.jsonl\")\n"
   ]
  },
  {
   "cell_type": "code",
   "execution_count": 11,
   "id": "48aa3b5f",
   "metadata": {},
   "outputs": [
    {
     "data": {
      "application/vnd.jupyter.widget-view+json": {
       "model_id": "afb0a9d12f6a4556abfb30407fbeb0bf",
       "version_major": 2,
       "version_minor": 0
      },
      "text/plain": [
       "README.md: 0.00B [00:00, ?B/s]"
      ]
     },
     "metadata": {},
     "output_type": "display_data"
    },
    {
     "data": {
      "application/vnd.jupyter.widget-view+json": {
       "model_id": "0fab4025827c47cc906865e3d64feb4a",
       "version_major": 2,
       "version_minor": 0
      },
      "text/plain": [
       "data/train-00000-of-00001.parquet:   0%|          | 0.00/9.19k [00:00<?, ?B/s]"
      ]
     },
     "metadata": {},
     "output_type": "display_data"
    },
    {
     "data": {
      "application/vnd.jupyter.widget-view+json": {
       "model_id": "37d5ee848f014ef4971292fb65d64f1e",
       "version_major": 2,
       "version_minor": 0
      },
      "text/plain": [
       "Generating train split:   0%|          | 0/30 [00:00<?, ? examples/s]"
      ]
     },
     "metadata": {},
     "output_type": "display_data"
    },
    {
     "name": "stdout",
     "output_type": "stream",
     "text": [
      "Converted 30 examples to hmmt_2025.jsonl\n"
     ]
    }
   ],
   "source": [
    "import json\n",
    "from datasets import load_dataset\n",
    "\n",
    "# Load dataset\n",
    "dataset = load_dataset(\"MathArena/hmmt_feb_2025\", split=\"train\")\n",
    "\n",
    "# Convert to JSONL\n",
    "with open(\"hmmt_2025.jsonl\", \"w\", encoding=\"utf-8\") as f:\n",
    "    for example in dataset:\n",
    "        entry = {\n",
    "            \"question\": example[\"problem\"],\n",
    "            \"answer\": str(example[\"answer\"])\n",
    "        }\n",
    "        f.write(json.dumps(entry, ensure_ascii=False) + \"\\n\")\n",
    "\n",
    "print(f\"Converted {len(dataset)} examples to hmmt_2025.jsonl\")\n"
   ]
  },
  {
   "cell_type": "code",
   "execution_count": 14,
   "id": "ba0c99f6",
   "metadata": {},
   "outputs": [
    {
     "data": {
      "application/vnd.jupyter.widget-view+json": {
       "model_id": "7d351f64667947bb89bf3703adb7d8c4",
       "version_major": 2,
       "version_minor": 0
      },
      "text/plain": [
       "README.md: 0.00B [00:00, ?B/s]"
      ]
     },
     "metadata": {},
     "output_type": "display_data"
    },
    {
     "data": {
      "application/vnd.jupyter.widget-view+json": {
       "model_id": "9394a8ab8afb436194d62558b81e3ff2",
       "version_major": 2,
       "version_minor": 0
      },
      "text/plain": [
       "data/train-00000-of-00001.parquet:   0%|          | 0.00/6.19k [00:00<?, ?B/s]"
      ]
     },
     "metadata": {},
     "output_type": "display_data"
    },
    {
     "data": {
      "application/vnd.jupyter.widget-view+json": {
       "model_id": "5975138ed37f43968d4f45cbc2a10441",
       "version_major": 2,
       "version_minor": 0
      },
      "text/plain": [
       "Generating train split:   0%|          | 0/15 [00:00<?, ? examples/s]"
      ]
     },
     "metadata": {},
     "output_type": "display_data"
    }
   ],
   "source": [
    "import json\n",
    "from datasets import load_dataset\n",
    "\n",
    "# Load dataset\n",
    "dataset = load_dataset(\"MathArena/aime_2024_I\", split=\"train\")"
   ]
  },
  {
   "cell_type": "code",
   "execution_count": 15,
   "id": "62da2e9d",
   "metadata": {},
   "outputs": [
    {
     "data": {
      "text/plain": [
       "Dataset({\n",
       "    features: ['problem_idx', 'problem', 'answer'],\n",
       "    num_rows: 15\n",
       "})"
      ]
     },
     "execution_count": 15,
     "metadata": {},
     "output_type": "execute_result"
    }
   ],
   "source": [
    "dataset"
   ]
  }
 ],
 "metadata": {
  "kernelspec": {
   "display_name": "Python 3 (ipykernel)",
   "language": "python",
   "name": "python3"
  },
  "language_info": {
   "codemirror_mode": {
    "name": "ipython",
    "version": 3
   },
   "file_extension": ".py",
   "mimetype": "text/x-python",
   "name": "python",
   "nbconvert_exporter": "python",
   "pygments_lexer": "ipython3",
   "version": "3.12.3"
  }
 },
 "nbformat": 4,
 "nbformat_minor": 5
}
